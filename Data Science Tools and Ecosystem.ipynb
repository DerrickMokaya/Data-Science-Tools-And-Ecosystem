{
 "cells": [
  {
   "cell_type": "markdown",
   "id": "393ce6b1",
   "metadata": {},
   "source": [
    "# Data Science Tools and Ecosystem"
   ]
  },
  {
   "cell_type": "markdown",
   "id": "c8440e3b",
   "metadata": {},
   "source": [
    "Popular languages in data science\n",
    "1. Python\n",
    "2. R\n",
    "3. C++\n",
    "4. SQL"
   ]
  },
  {
   "cell_type": "markdown",
   "id": "7a404c6d",
   "metadata": {},
   "source": [
    "Popular data science libraries\n",
    "1. Pandas\n",
    "2. Numpy\n",
    "3. Matplotlib\n",
    "4. Scikit-learn"
   ]
  },
  {
   "cell_type": "markdown",
   "id": "91b20cd5",
   "metadata": {},
   "source": [
    "|Data Science Tools|\n",
    "-----\n",
    "|Apache Hadoop|\n",
    "|Tensorflow|\n",
    "|SAS|"
   ]
  },
  {
   "cell_type": "markdown",
   "id": "935b79cc",
   "metadata": {},
   "source": [
    "## Arithmetic expression examples:\n"
   ]
  },
  {
   "cell_type": "code",
   "execution_count": 2,
   "id": "fbe6c198",
   "metadata": {},
   "outputs": [
    {
     "data": {
      "text/plain": [
       "3"
      ]
     },
     "execution_count": 2,
     "metadata": {},
     "output_type": "execute_result"
    }
   ],
   "source": [
    "#Addition\n",
    "result=1+2\n",
    "result\n"
   ]
  },
  {
   "cell_type": "code",
   "execution_count": 3,
   "id": "557e7158",
   "metadata": {},
   "outputs": [
    {
     "data": {
      "text/plain": [
       "2"
      ]
     },
     "execution_count": 3,
     "metadata": {},
     "output_type": "execute_result"
    }
   ],
   "source": [
    "#Multiplication\n",
    "result=1*2\n",
    "result"
   ]
  },
  {
   "cell_type": "code",
   "execution_count": 4,
   "id": "ddff05e1",
   "metadata": {},
   "outputs": [
    {
     "name": "stdout",
     "output_type": "stream",
     "text": [
      "2.5\n"
     ]
    }
   ],
   "source": [
    "#Code that that converts 150 minutes into hours\n",
    "minutes = 150\n",
    "hours = minutes / 60\n",
    "print(hours)"
   ]
  },
  {
   "cell_type": "markdown",
   "id": "60df8fad",
   "metadata": {},
   "source": [
    "_Objectives_\n",
    "* List of the popular languages in data science\n",
    "* List of the popular data science libraries\n",
    "* Table of popular data science tools\n",
    "* Arithmetic expression examples\n",
    "* Code that converts 150 minutes into hours"
   ]
  },
  {
   "cell_type": "markdown",
   "id": "3974fbd7",
   "metadata": {},
   "source": [
    "## Author\n",
    "Mokaya Derrick"
   ]
  }
 ],
 "metadata": {
  "kernelspec": {
   "display_name": "Python 3 (ipykernel)",
   "language": "python",
   "name": "python3"
  },
  "language_info": {
   "codemirror_mode": {
    "name": "ipython",
    "version": 3
   },
   "file_extension": ".py",
   "mimetype": "text/x-python",
   "name": "python",
   "nbconvert_exporter": "python",
   "pygments_lexer": "ipython3",
   "version": "3.11.5"
  }
 },
 "nbformat": 4,
 "nbformat_minor": 5
}
