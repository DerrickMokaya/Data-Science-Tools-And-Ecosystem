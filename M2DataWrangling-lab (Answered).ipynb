{
 "cells": [
  {
   "cell_type": "markdown",
   "metadata": {},
   "source": [
    "<p style=\"text-align:center\">\n",
    "    <a href=\"https://skills.network/?utm_medium=Exinfluencer&utm_source=Exinfluencer&utm_content=000026UJ&utm_term=10006555&utm_id=NA-SkillsNetwork-Channel-SkillsNetworkCoursesIBMDA0321ENSkillsNetwork928-2022-01-01\" target=\"_blank\">\n",
    "    <img src=\"https://cf-courses-data.s3.us.cloud-object-storage.appdomain.cloud/assets/logos/SN_web_lightmode.png\" width=\"200\" alt=\"Skills Network Logo\"  />\n",
    "    </a>\n",
    "</p>\n"
   ]
  },
  {
   "cell_type": "markdown",
   "metadata": {},
   "source": [
    "# **Data Wrangling Lab**\n"
   ]
  },
  {
   "cell_type": "markdown",
   "metadata": {},
   "source": [
    "Estimated time needed: **45 to 60** minutes\n"
   ]
  },
  {
   "cell_type": "markdown",
   "metadata": {},
   "source": [
    "In this assignment you will be performing data wrangling.\n"
   ]
  },
  {
   "cell_type": "markdown",
   "metadata": {},
   "source": [
    "## Objectives\n"
   ]
  },
  {
   "cell_type": "markdown",
   "metadata": {},
   "source": [
    "In this lab you will perform the following:\n"
   ]
  },
  {
   "cell_type": "markdown",
   "metadata": {},
   "source": [
    "-   Identify duplicate values in the dataset.\n",
    "\n",
    "-   Remove duplicate values from the dataset.\n",
    "\n",
    "-   Identify missing values in the dataset.\n",
    "\n",
    "-   Impute the missing values in the dataset.\n",
    "\n",
    "-   Normalize data in the dataset.\n"
   ]
  },
  {
   "cell_type": "markdown",
   "metadata": {},
   "source": [
    "<hr>\n"
   ]
  },
  {
   "cell_type": "markdown",
   "metadata": {},
   "source": [
    "## Hands on Lab\n"
   ]
  },
  {
   "cell_type": "markdown",
   "metadata": {},
   "source": [
    "Import pandas module.\n"
   ]
  },
  {
   "cell_type": "code",
   "execution_count": 2,
   "metadata": {},
   "outputs": [],
   "source": [
    "import pandas as pd"
   ]
  },
  {
   "cell_type": "markdown",
   "metadata": {},
   "source": [
    "Load the dataset into a dataframe.\n"
   ]
  },
  {
   "cell_type": "code",
   "execution_count": 4,
   "metadata": {},
   "outputs": [],
   "source": [
    "df = pd.read_csv(\"https://cf-courses-data.s3.us.cloud-object-storage.appdomain.cloud/IBM-DA0321EN-SkillsNetwork/LargeData/m1_survey_data.csv\")"
   ]
  },
  {
   "cell_type": "markdown",
   "metadata": {},
   "source": [
    "## Finding duplicates\n"
   ]
  },
  {
   "cell_type": "markdown",
   "metadata": {},
   "source": [
    "In this section you will identify duplicate values in the dataset.\n"
   ]
  },
  {
   "cell_type": "markdown",
   "metadata": {},
   "source": [
    " Find how many duplicate rows exist in the dataframe.\n"
   ]
  },
  {
   "cell_type": "code",
   "execution_count": 8,
   "metadata": {},
   "outputs": [
    {
     "name": "stdout",
     "output_type": "stream",
     "text": [
      "There are 154 duplicate rows in the dataset.\n"
     ]
    }
   ],
   "source": [
    "# your code goes here\n",
    "num_duplicates = df.duplicated().sum()\n",
    "\n",
    "print(f\"There are {num_duplicates} duplicate rows in the dataset.\")"
   ]
  },
  {
   "cell_type": "markdown",
   "metadata": {},
   "source": [
    "## Removing duplicates\n"
   ]
  },
  {
   "cell_type": "markdown",
   "metadata": {},
   "source": [
    "Remove the duplicate rows from the dataframe.\n"
   ]
  },
  {
   "cell_type": "code",
   "execution_count": 9,
   "metadata": {},
   "outputs": [
    {
     "name": "stdout",
     "output_type": "stream",
     "text": [
      "Shape of the DataFrame before removing duplicates: (11552, 85)\n",
      "Shape of the DataFrame after removing duplicates: (11398, 85)\n"
     ]
    }
   ],
   "source": [
    "# your code goes here\n",
    "df_no_duplicates = df.drop_duplicates()\n",
    "\n",
    "# Print the shape of the DataFrame before and after removing duplicates\n",
    "print(\"Shape of the DataFrame before removing duplicates:\", df.shape)\n",
    "print(\"Shape of the DataFrame after removing duplicates:\", df_no_duplicates.shape)"
   ]
  },
  {
   "cell_type": "markdown",
   "metadata": {},
   "source": [
    "Verify if duplicates were actually dropped.\n"
   ]
  },
  {
   "cell_type": "code",
   "execution_count": 12,
   "metadata": {},
   "outputs": [
    {
     "name": "stdout",
     "output_type": "stream",
     "text": [
      "Shape of the DataFrame after removing duplicates: (11398, 85)\n"
     ]
    }
   ],
   "source": [
    "# your code goes here\n",
    "print(\"Shape of the DataFrame after removing duplicates:\", df_no_duplicates.shape)\n"
   ]
  },
  {
   "cell_type": "markdown",
   "metadata": {},
   "source": [
    "## Finding Missing values\n"
   ]
  },
  {
   "cell_type": "markdown",
   "metadata": {},
   "source": [
    "Find the missing values for all columns.\n"
   ]
  },
  {
   "cell_type": "code",
   "execution_count": 13,
   "metadata": {},
   "outputs": [
    {
     "name": "stdout",
     "output_type": "stream",
     "text": [
      "Missing values for each column:\n",
      "Respondent        0\n",
      "MainBranch        0\n",
      "Hobbyist          0\n",
      "OpenSourcer       0\n",
      "OpenSource       81\n",
      "               ... \n",
      "Sexuality       547\n",
      "Ethnicity       683\n",
      "Dependents      144\n",
      "SurveyLength     19\n",
      "SurveyEase       14\n",
      "Length: 85, dtype: int64\n"
     ]
    }
   ],
   "source": [
    "# your code goes here\n",
    "missing_values = df.isna().sum()\n",
    "\n",
    "print(\"Missing values for each column:\")\n",
    "print(missing_values)"
   ]
  },
  {
   "cell_type": "markdown",
   "metadata": {},
   "source": [
    "Find out how many rows are missing in the column 'WorkLoc'\n"
   ]
  },
  {
   "cell_type": "code",
   "execution_count": 14,
   "metadata": {},
   "outputs": [
    {
     "name": "stdout",
     "output_type": "stream",
     "text": [
      "Number of missing values in the 'WorkLoc' column: 32\n"
     ]
    }
   ],
   "source": [
    "# your code goes here\n",
    "missing_workloc = df['WorkLoc'].isna().sum()\n",
    "\n",
    "print(f\"Number of missing values in the 'WorkLoc' column: {missing_workloc}\")"
   ]
  },
  {
   "cell_type": "code",
   "execution_count": 15,
   "metadata": {},
   "outputs": [
    {
     "name": "stdout",
     "output_type": "stream",
     "text": [
      "Number of duplicate values in the 'Respondent' column: 154\n"
     ]
    }
   ],
   "source": [
    "duplicate_respondents = df['Respondent'].duplicated().sum()\n",
    "\n",
    "print(f\"Number of duplicate values in the 'Respondent' column: {duplicate_respondents}\")"
   ]
  },
  {
   "cell_type": "code",
   "execution_count": 18,
   "metadata": {},
   "outputs": [
    {
     "name": "stdout",
     "output_type": "stream",
     "text": [
      "After removing duplicate rows, there are 11398 unique rows in the 'Respondent' column.\n"
     ]
    }
   ],
   "source": [
    "unique_respondents = df_no_duplicates['Respondent'].nunique()\n",
    "\n",
    "print(f\"After removing duplicate rows, there are {unique_respondents} unique rows in the 'Respondent' column.\")"
   ]
  },
  {
   "cell_type": "code",
   "execution_count": 19,
   "metadata": {},
   "outputs": [
    {
     "name": "stdout",
     "output_type": "stream",
     "text": [
      "After removing duplicate rows, there are 112 blank rows in the 'EdLevel' column.\n"
     ]
    }
   ],
   "source": [
    "# Remove duplicate rows\n",
    "df_no_duplicates = df.drop_duplicates()\n",
    "\n",
    "# Count the number of missing values in the 'EdLevel' column after removing duplicates\n",
    "missing_edlevel = df_no_duplicates['EdLevel'].isna().sum()\n",
    "\n",
    "print(f\"After removing duplicate rows, there are {missing_edlevel} blank rows in the 'EdLevel' column.\")"
   ]
  },
  {
   "cell_type": "code",
   "execution_count": 20,
   "metadata": {},
   "outputs": [
    {
     "name": "stdout",
     "output_type": "stream",
     "text": [
      "After removing duplicate rows, there are 0 missing rows in the 'Country' column.\n"
     ]
    }
   ],
   "source": [
    "# Count the number of missing values in the 'Country' column after removing duplicates\n",
    "missing_country = df_no_duplicates['Country'].isna().sum()\n",
    "\n",
    "print(f\"After removing duplicate rows, there are {missing_country} missing rows in the 'Country' column.\")"
   ]
  },
  {
   "cell_type": "code",
   "execution_count": 33,
   "metadata": {},
   "outputs": [
    {
     "name": "stdout",
     "output_type": "stream",
     "text": [
      "After removing duplicate rows, 6073 respondents are being paid yearly.\n"
     ]
    }
   ],
   "source": [
    "# Filter the DataFrame for respondents paid yearly\n",
    "yearly_paid = df_no_duplicates[df_no_duplicates['CompFreq'] == 'Yearly']\n",
    "\n",
    "# Count the number of respondents paid yearly\n",
    "num_yearly_paid = yearly_paid.shape[0]\n",
    "\n",
    "print(f\"After removing duplicate rows, {num_yearly_paid} respondents are being paid yearly.\")"
   ]
  },
  {
   "cell_type": "code",
   "execution_count": 23,
   "metadata": {},
   "outputs": [
    {
     "name": "stdout",
     "output_type": "stream",
     "text": [
      "The majority category in the 'Employment' column is: Employed full-time\n"
     ]
    }
   ],
   "source": [
    "employment_counts = df['Employment'].value_counts()\n",
    "\n",
    "# Identify the majority category (most frequent value) in the 'Employment' column\n",
    "majority_employment = employment_counts.idxmax()\n",
    "\n",
    "print(f\"The majority category in the 'Employment' column is: {majority_employment}\")"
   ]
  },
  {
   "cell_type": "code",
   "execution_count": 24,
   "metadata": {},
   "outputs": [
    {
     "name": "stdout",
     "output_type": "stream",
     "text": [
      "The category with the minimum number of rows in the 'UndergradMajor' column is: A health science (ex. nursing, pharmacy, radiology)\n"
     ]
    }
   ],
   "source": [
    "# Get the value counts for the 'UndergradMajor' column\n",
    "undergrad_major_counts = df['UndergradMajor'].value_counts()\n",
    "\n",
    "# Identify the category with the minimum number of rows in the 'UndergradMajor' column\n",
    "min_category = undergrad_major_counts.idxmin()\n",
    "\n",
    "print(f\"The category with the minimum number of rows in the 'UndergradMajor' column is: {min_category}\")"
   ]
  },
  {
   "cell_type": "code",
   "execution_count": null,
   "metadata": {},
   "outputs": [],
   "source": []
  },
  {
   "cell_type": "markdown",
   "metadata": {},
   "source": [
    "## Imputing missing values\n"
   ]
  },
  {
   "cell_type": "markdown",
   "metadata": {},
   "source": [
    "Find the  value counts for the column WorkLoc.\n"
   ]
  },
  {
   "cell_type": "code",
   "execution_count": 16,
   "metadata": {},
   "outputs": [
    {
     "name": "stdout",
     "output_type": "stream",
     "text": [
      "Value counts for the 'WorkLoc' column:\n",
      "WorkLoc\n",
      "Office                                            6905\n",
      "Home                                              3638\n",
      "Other place, such as a coworking space or cafe     977\n",
      "Name: count, dtype: int64\n"
     ]
    }
   ],
   "source": [
    "# your code goes here\n",
    "workloc_counts = df['WorkLoc'].value_counts()\n",
    "\n",
    "print(\"Value counts for the 'WorkLoc' column:\")\n",
    "print(workloc_counts)"
   ]
  },
  {
   "cell_type": "markdown",
   "metadata": {},
   "source": [
    "Identify the value that is most frequent (majority) in the WorkLoc column.\n"
   ]
  },
  {
   "cell_type": "code",
   "execution_count": 26,
   "metadata": {},
   "outputs": [
    {
     "name": "stdout",
     "output_type": "stream",
     "text": [
      "The most frequent value in the 'WorkLoc' column is: Office\n"
     ]
    }
   ],
   "source": [
    "#make a note of the majority value here, for future reference\n",
    "#\n",
    "workloc_counts = df['WorkLoc'].value_counts()\n",
    "\n",
    "# Identify the most frequent value (majority) in the 'WorkLoc' column\n",
    "most_frequent_workloc = workloc_counts.idxmax()\n",
    "\n",
    "print(f\"The most frequent value in the 'WorkLoc' column is: {most_frequent_workloc}\")"
   ]
  },
  {
   "cell_type": "markdown",
   "metadata": {},
   "source": [
    "Impute (replace) all the empty rows in the column WorkLoc with the value that you have identified as majority.\n"
   ]
  },
  {
   "cell_type": "code",
   "execution_count": 28,
   "metadata": {},
   "outputs": [
    {
     "name": "stdout",
     "output_type": "stream",
     "text": [
      "Value counts after imputation:\n",
      "WorkLoc\n",
      "Office                                            6937\n",
      "Home                                              3638\n",
      "Other place, such as a coworking space or cafe     977\n",
      "Name: count, dtype: int64\n"
     ]
    }
   ],
   "source": [
    "# Identify the majority category (most frequent value) in the 'WorkLoc' column\n",
    "majority_workloc = workloc_counts.idxmax()\n",
    "\n",
    "# Impute (replace) empty rows in the 'WorkLoc' column with the majority value\n",
    "df['WorkLoc'] = df['WorkLoc'].fillna(majority_workloc)\n",
    "\n",
    "# Verify the changes\n",
    "print(\"Value counts after imputation:\")\n",
    "print(df['WorkLoc'].value_counts())"
   ]
  },
  {
   "cell_type": "markdown",
   "metadata": {},
   "source": [
    "After imputation there should ideally not be any empty rows in the WorkLoc column.\n"
   ]
  },
  {
   "cell_type": "markdown",
   "metadata": {},
   "source": [
    "Verify if imputing was successful.\n"
   ]
  },
  {
   "cell_type": "code",
   "execution_count": 29,
   "metadata": {},
   "outputs": [
    {
     "name": "stdout",
     "output_type": "stream",
     "text": [
      "Imputation was successful.\n"
     ]
    }
   ],
   "source": [
    "# your code goes here\n",
    "# Get the value counts for the 'WorkLoc' column before imputation\n",
    "workloc_counts_before = df['WorkLoc'].value_counts()\n",
    "\n",
    "# Identify the majority category (most frequent value) in the 'WorkLoc' column\n",
    "majority_workloc = workloc_counts_before.idxmax()\n",
    "\n",
    "# Impute (replace) empty rows in the 'WorkLoc' column with the majority value\n",
    "df['WorkLoc'] = df['WorkLoc'].fillna(majority_workloc)\n",
    "\n",
    "# Get the value counts for the 'WorkLoc' column after imputation\n",
    "workloc_counts_after = df['WorkLoc'].value_counts()\n",
    "\n",
    "# Verify if imputation was successful\n",
    "if workloc_counts_before.equals(workloc_counts_after):\n",
    "    print(\"Imputation was successful.\")\n",
    "else:\n",
    "    print(\"Imputation was not successful.\")"
   ]
  },
  {
   "cell_type": "markdown",
   "metadata": {},
   "source": [
    "## Normalizing data\n"
   ]
  },
  {
   "cell_type": "markdown",
   "metadata": {},
   "source": [
    "There are two columns in the dataset that talk about compensation.\n",
    "\n",
    "One is \"CompFreq\". This column shows how often a developer is paid (Yearly, Monthly, Weekly).\n",
    "\n",
    "The other is \"CompTotal\". This column talks about how much the developer is paid per Year, Month, or Week depending upon his/her \"CompFreq\". \n",
    "\n",
    "This makes it difficult to compare the total compensation of the developers.\n",
    "\n",
    "In this section you will create a new column called 'NormalizedAnnualCompensation' which contains the 'Annual Compensation' irrespective of the 'CompFreq'.\n",
    "\n",
    "Once this column is ready, it makes comparison of salaries easy.\n"
   ]
  },
  {
   "cell_type": "markdown",
   "metadata": {},
   "source": [
    "<hr>\n"
   ]
  },
  {
   "cell_type": "markdown",
   "metadata": {},
   "source": [
    "List out the various categories in the column 'CompFreq'\n"
   ]
  },
  {
   "cell_type": "code",
   "execution_count": 30,
   "metadata": {},
   "outputs": [
    {
     "name": "stdout",
     "output_type": "stream",
     "text": [
      "Categories in the 'CompFreq' column:\n",
      "['Yearly' 'Monthly' 'Weekly' nan]\n"
     ]
    }
   ],
   "source": [
    "# your code goes here\n",
    "# List out the various categories in the 'CompFreq' column\n",
    "compfreq_categories = df['CompFreq'].unique()\n",
    "\n",
    "print(\"Categories in the 'CompFreq' column:\")\n",
    "print(compfreq_categories)"
   ]
  },
  {
   "cell_type": "code",
   "execution_count": 31,
   "metadata": {},
   "outputs": [
    {
     "name": "stdout",
     "output_type": "stream",
     "text": [
      "There are 3 unique values in the 'CompFreq' column.\n"
     ]
    }
   ],
   "source": [
    "num_unique_compfreq = df['CompFreq'].nunique()\n",
    "\n",
    "print(f\"There are {num_unique_compfreq} unique values in the 'CompFreq' column.\")"
   ]
  },
  {
   "cell_type": "code",
   "execution_count": null,
   "metadata": {},
   "outputs": [],
   "source": []
  },
  {
   "cell_type": "markdown",
   "metadata": {},
   "source": [
    "Create a new column named 'NormalizedAnnualCompensation'. Use the hint given below if needed.\n"
   ]
  },
  {
   "cell_type": "markdown",
   "metadata": {},
   "source": [
    "Double click to see the **Hint**.\n",
    "\n",
    "<!--\n",
    "\n",
    "Use the below logic to arrive at the values for the column NormalizedAnnualCompensation.\n",
    "\n",
    "If the CompFreq is Yearly then use the exising value in CompTotal\n",
    "If the CompFreq is Monthly then multiply the value in CompTotal with 12 (months in an year)\n",
    "If the CompFreq is Weekly then multiply the value in CompTotal with 52 (weeks in an year)\n",
    "\n",
    "-->\n"
   ]
  },
  {
   "cell_type": "code",
   "execution_count": 32,
   "metadata": {},
   "outputs": [
    {
     "name": "stdout",
     "output_type": "stream",
     "text": [
      "  CompFreq  CompTotal  NormalizedAnnualCompensation\n",
      "0   Yearly    61000.0                       61000.0\n",
      "1   Yearly   138000.0                      138000.0\n",
      "2   Yearly    90000.0                       90000.0\n",
      "3  Monthly    29000.0                      348000.0\n",
      "4   Yearly    90000.0                       90000.0\n"
     ]
    }
   ],
   "source": [
    "# your code goes here\n",
    "# Create a new column 'NormalizedAnnualCompensation'\n",
    "def normalize_compensation(row):\n",
    "    if row['CompFreq'] == 'Yearly':\n",
    "        return row['CompTotal']\n",
    "    elif row['CompFreq'] == 'Monthly':\n",
    "        return row['CompTotal'] * 12\n",
    "    elif row['CompFreq'] == 'Weekly':\n",
    "        return row['CompTotal'] * 52\n",
    "    else:\n",
    "        return None\n",
    "\n",
    "df['NormalizedAnnualCompensation'] = df.apply(normalize_compensation, axis=1)\n",
    "\n",
    "# Print the first few rows to verify\n",
    "print(df[['CompFreq', 'CompTotal', 'NormalizedAnnualCompensation']].head())"
   ]
  },
  {
   "cell_type": "code",
   "execution_count": 34,
   "metadata": {},
   "outputs": [
    {
     "name": "stdout",
     "output_type": "stream",
     "text": [
      "The median NormalizedAnnualCompensation is: 100000.0\n"
     ]
    }
   ],
   "source": [
    "# Create a new column 'NormalizedAnnualCompensation'\n",
    "def normalize_compensation(row):\n",
    "    if row['CompFreq'] == 'Yearly':\n",
    "        return row['CompTotal']\n",
    "    elif row['CompFreq'] == 'Monthly':\n",
    "        return row['CompTotal'] * 12\n",
    "    elif row['CompFreq'] == 'Weekly':\n",
    "        return row['CompTotal'] * 52\n",
    "    else:\n",
    "        return None\n",
    "\n",
    "df['NormalizedAnnualCompensation'] = df.apply(normalize_compensation, axis=1)\n",
    "\n",
    "# Calculate the median of 'NormalizedAnnualCompensation'\n",
    "median_compensation = df['NormalizedAnnualCompensation'].median()\n",
    "\n",
    "print(f\"The median NormalizedAnnualCompensation is: {median_compensation}\")"
   ]
  },
  {
   "cell_type": "markdown",
   "metadata": {},
   "source": [
    "## Authors\n"
   ]
  },
  {
   "cell_type": "markdown",
   "metadata": {},
   "source": [
    "Ramesh Sannareddy\n"
   ]
  },
  {
   "cell_type": "markdown",
   "metadata": {},
   "source": [
    "### Other Contributors\n"
   ]
  },
  {
   "cell_type": "markdown",
   "metadata": {},
   "source": [
    "Rav Ahuja\n"
   ]
  },
  {
   "cell_type": "markdown",
   "metadata": {},
   "source": [
    "## Change Log\n"
   ]
  },
  {
   "cell_type": "markdown",
   "metadata": {},
   "source": [
    "| Date (YYYY-MM-DD) | Version | Changed By        | Change Description                 |\n",
    "| ----------------- | ------- | ----------------- | ---------------------------------- |\n",
    "| 2020-10-17        | 0.1     | Ramesh Sannareddy | Created initial version of the lab |\n"
   ]
  },
  {
   "cell_type": "markdown",
   "metadata": {},
   "source": [
    " Copyright © 2020 IBM Corporation. This notebook and its source code are released under the terms of the [MIT License](https://cognitiveclass.ai/mit-license?utm_medium=Exinfluencer&utm_source=Exinfluencer&utm_content=000026UJ&utm_term=10006555&utm_id=NA-SkillsNetwork-Channel-SkillsNetworkCoursesIBMDA0321ENSkillsNetwork928-2022-01-01&cm_mmc=Email_Newsletter-_-Developer_Ed%2BTech-_-WW_WW-_-SkillsNetwork-Courses-IBM-DA0321EN-SkillsNetwork-21426264&cm_mmca1=000026UJ&cm_mmca2=10006555&cm_mmca3=M12345678&cvosrc=email.Newsletter.M12345678&cvo_campaign=000026UJ).\n"
   ]
  }
 ],
 "metadata": {
  "kernelspec": {
   "display_name": "Python 3 (ipykernel)",
   "language": "python",
   "name": "python3"
  },
  "language_info": {
   "codemirror_mode": {
    "name": "ipython",
    "version": 3
   },
   "file_extension": ".py",
   "mimetype": "text/x-python",
   "name": "python",
   "nbconvert_exporter": "python",
   "pygments_lexer": "ipython3",
   "version": "3.11.5"
  }
 },
 "nbformat": 4,
 "nbformat_minor": 4
}
